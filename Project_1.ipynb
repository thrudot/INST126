{
 "cells": [
  {
   "cell_type": "code",
   "execution_count": null,
   "metadata": {},
   "outputs": [],
   "source": [
    "#prints out operator options for user and guides them through the process of making their equation\n",
    "print(\"1 - Addition\")\n",
    "print(\"2 - Subtraction\")\n",
    "print(\"3 - Multiplication\")\n",
    "print(\"4 - Division\")\n",
    "print(\"5 - Factorial (Only requires First Number. Second Number can be 0.)\")\n",
    "\n",
    "op = input(\"Choose Operation: \")\n",
    "\n",
    "n1 = int(input(\"First Number: \"))\n",
    "n2 = int(input(\"Second Number: \"))\n",
    "\n",
    "\n",
    "#For each operation, this prints out the equation for easy viewing. \n",
    "if op == '1':\n",
    "    print(n1, \"+\", n2, \"=\", n1+n2)\n",
    "    \n",
    "elif op == '2':\n",
    "    print(n1, \"-\", n2, \"=\", n1-n2)\n",
    "    \n",
    "elif op == '3':\n",
    "    print(n1, \"*\", n2, \"=\", n1*n2)\n",
    "\n",
    "elif op == '4':\n",
    "    print(n1, \"/\", n2, \"=\", n1/n2)\n",
    "\n",
    "    \n",
    "#Calculates the factorial of a number using a while loop (using iterations/loops). Got this idea from a previous homweork!   \n",
    "elif op == '5':  \n",
    "    n = n1\n",
    "    F = 1\n",
    "    i = 1\n",
    "    \n",
    "#while loop runs until \"n\" iterations\n",
    "    while i <= n:\n",
    "        F = F * i\n",
    "        i = i + 1\n",
    "\n",
    "    print(n1, \"!\", \"=\", F)"
   ]
  }
 ],
 "metadata": {
  "kernelspec": {
   "display_name": "Python 3",
   "language": "python",
   "name": "python3"
  },
  "language_info": {
   "codemirror_mode": {
    "name": "ipython",
    "version": 3
   },
   "file_extension": ".py",
   "mimetype": "text/x-python",
   "name": "python",
   "nbconvert_exporter": "python",
   "pygments_lexer": "ipython3",
   "version": "3.8.5"
  }
 },
 "nbformat": 4,
 "nbformat_minor": 4
}
